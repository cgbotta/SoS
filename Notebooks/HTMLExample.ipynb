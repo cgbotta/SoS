{
 "cells": [
  {
   "cell_type": "code",
   "execution_count": 3,
   "metadata": {
    "kernel": "Python3"
   },
   "outputs": [
    {
     "ename": "NameError",
     "evalue": "name 'data' is not defined",
     "output_type": "error",
     "traceback": [
      "\u001b[1;31m---------------------------------------------------------------------------\u001b[0m",
      "\u001b[1;31mNameError\u001b[0m                                 Traceback (most recent call last)",
      "\u001b[1;32m<ipython-input-2-021f008e4831>\u001b[0m in \u001b[0;36m<module>\u001b[1;34m()\u001b[0m\n\u001b[1;32m----> 1\u001b[1;33m \u001b[0mdata\u001b[0m\u001b[1;33m[\u001b[0m\u001b[0mdata\u001b[0m\u001b[1;33m.\u001b[0m\u001b[0mEmbarked\u001b[0m\u001b[1;33m.\u001b[0m\u001b[0misnull\u001b[0m\u001b[1;33m(\u001b[0m\u001b[1;33m)\u001b[0m\u001b[1;33m]\u001b[0m\u001b[1;33m\u001b[0m\u001b[0m\n\u001b[0m",
      "\u001b[1;31mNameError\u001b[0m: name 'data' is not defined"
     ]
    }
   ],
   "source": [
    "data[data.Embarked.isnull()]"
   ]
  },
  {
   "cell_type": "markdown",
   "metadata": {
    "kernel": "SoS"
   },
   "source": [
    "<html>\n",
    "\n",
    "<head>\n",
    "\n",
    "</head>\n",
    "\n",
    "<body>\n",
    "\n",
    "    <div class=\"row\">\n",
    "        <div class=\"column\" style=\"border: 1px solid black;\">\n",
    "            <b>Incorrect 1</b>\n",
    "\n",
    "            <p>data[is.na(data$Embarked)]</p>\n",
    "\n",
    "            <p>\n",
    "                <font size=\"3\" color=\"red\">Operation returns an error:</font>\n",
    "            </p>\n",
    "\n",
    "            <br>\n",
    "\n",
    "            <code>Error in '[.data.frame'(train, is.na(train$Embarked) == TRUE): undefined columns selected</code>\n",
    "\n",
    "            <p>\n",
    "\n",
    "                <font size=\"4\">WHY:\n",
    "                    <br>\n",
    "                    <br> Column subsetting is attempted when there is no comma after\n",
    "                    <code>is.na(data$Embarked)</code>.\n",
    "                    <br>\n",
    "                    <br> This results in column subsetting for columns that might be undefined.</font>\n",
    "\n",
    "            </p>\n",
    "        </div>\n",
    "        <div class=\"column\" style=\"border: 1px solid black;\">\n",
    "            <b>Incorrect 2</b>\n",
    "\n",
    "            <p>data[data$Embarked == NA]</p>\n",
    "\n",
    "            <p>\n",
    "                <font size=\"3\" color=\"red\">The value of NA is filled for all row values:</font>\n",
    "            </p>\n",
    "\n",
    "            <table class=\"tg\">\n",
    "                <tr>\n",
    "                    <th class=\"tg-ohoh\"></th>\n",
    "                    <th class=\"tg-3ij2\">Name</th>\n",
    "                    <th class=\"tg-3ij2\">Survived</th>\n",
    "                </tr>\n",
    "                <tr>\n",
    "                    <td class=\"tg-kn9s\">NA</td>\n",
    "                    <td class=\"tg-7cxr\">NA</td>\n",
    "                    <td class=\"tg-7cxr\">NA</td>\n",
    "                </tr>\n",
    "                <tr>\n",
    "                    <td class=\"tg-kn9s\">NA.1</td>\n",
    "                    <td class=\"tg-7cxr\">NA</td>\n",
    "                    <td class=\"tg-7cxr\">NA</td>\n",
    "                </tr>\n",
    "                <tr>\n",
    "                    <td class=\"tg-kn9s\">...</td>\n",
    "                    <td class=\"tg-7cxr\">...</td>\n",
    "                    <td class=\"tg-7cxr\">...</td>\n",
    "                </tr>\n",
    "                <tr>\n",
    "                    <td class=\"tg-kn9s\">NA.n</td>\n",
    "                    <td class=\"tg-7cxr\">NA</td>\n",
    "                    <td class=\"tg-7cxr\">NA</td>\n",
    "                </tr>\n",
    "            </table>\n",
    "\n",
    "            <p>\n",
    "\n",
    "                <font size=\"4\">WHY:\n",
    "                    <br>\n",
    "                    <br> Missing values (NA) are regarded as non-comparable. Comparisons involving them will always result in\n",
    "                    NA.\n",
    "                    <br>\n",
    "                    <br>\n",
    "                </font>\n",
    "\n",
    "            </p>\n",
    "        </div>\n",
    "        <div class=\"column\" style=\"border: 1px solid black;\">\n",
    "            <b>Incorrect 3</b>\n",
    "\n",
    "            <p>data[na.omit(data$Embarked == NA), ]</p>\n",
    "\n",
    "            <p>\n",
    "                <font size=\"3\" color=\"red\">Operation returns 0 rows:</font>\n",
    "            </p>\n",
    "\n",
    "            <table class=\"tg\">\n",
    "                <tr>\n",
    "                    <th class=\"tg-ohoh\"></th>\n",
    "                    <th class=\"tg-3ij2\">Name</th>\n",
    "                    <th class=\"tg-3ij2\">Survived</th>\n",
    "                </tr>\n",
    "            </table>\n",
    "\n",
    "            <p>\n",
    "\n",
    "                <font size=\"4\">WHY:\n",
    "                    <br>\n",
    "                    <br> Result of\n",
    "                    <code>data$Embarked == NA</code> all have value NA. The\n",
    "                    <code>na.omit</code> removes all occurrences of rows with NA.\n",
    "                    <br>\n",
    "                    <br>\n",
    "                </font>\n",
    "\n",
    "            </p>\n",
    "        </div>\n",
    "    </div>\n",
    "\n",
    "</body>\n",
    "\n",
    "</html>"
   ]
  },
  {
   "cell_type": "code",
   "execution_count": 4,
   "metadata": {
    "kernel": "R"
   },
   "outputs": [
    {
     "ename": "ERROR",
     "evalue": "Error in data$Embarked: object of type 'closure' is not subsettable\n",
     "output_type": "error",
     "traceback": [
      "Error in data$Embarked: object of type 'closure' is not subsettable\nTraceback:\n"
     ]
    }
   ],
   "source": [
    "data[is.na(data$Embarked), ]"
   ]
  }
 ],
 "metadata": {
  "kernelspec": {
   "display_name": "SoS",
   "language": "sos",
   "name": "sos"
  },
  "language_info": {
   "codemirror_mode": "sos",
   "file_extension": ".sos",
   "mimetype": "text/x-sos",
   "name": "sos",
   "nbconvert_exporter": "sos_notebook.converter.SoS_Exporter",
   "pygments_lexer": "sos"
  },
  "sos": {
   "kernels": [],
   "panel": {
    "displayed": true,
    "height": 0,
    "style": "side"
   },
   "version": "0.16.10"
  }
 },
 "nbformat": 4,
 "nbformat_minor": 2
}
